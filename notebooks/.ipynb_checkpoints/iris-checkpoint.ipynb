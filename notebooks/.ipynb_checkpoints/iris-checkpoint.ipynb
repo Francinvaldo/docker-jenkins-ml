{
 "cells": [
  {
   "cell_type": "code",
   "execution_count": 1,
   "metadata": {},
   "outputs": [],
   "source": [
    "# coding: utf-8\n",
    "import pickle\n",
    "from  sklearn import  datasets"
   ]
  },
  {
   "cell_type": "code",
   "execution_count": 2,
   "metadata": {},
   "outputs": [],
   "source": [
    "iris=datasets.load_iris()"
   ]
  },
  {
   "cell_type": "code",
   "execution_count": 3,
   "metadata": {},
   "outputs": [],
   "source": [
    "x=iris.data\n",
    "y=iris.target\n",
    "\n",
    "#labels for iris dataset\n",
    "labels ={\n",
    "  0: \"setosa\",\n",
    "  1: \"versicolor\",\n",
    "  2: \"virginica\"\n",
    "}\n",
    "\n",
    "#split the data set\n",
    "from sklearn.model_selection import train_test_split\n",
    "x_train,x_test,y_train,y_test=train_test_split(x,y,test_size=.25)\n",
    "\n",
    "#Using decision tree algorithm\n",
    "from sklearn import tree\n",
    "classifier=tree.DecisionTreeClassifier()\n",
    "classifier.fit(x_train,y_train)\n",
    "predictions=classifier.predict(x_test)"
   ]
  },
  {
   "cell_type": "code",
   "execution_count": 4,
   "metadata": {},
   "outputs": [],
   "source": [
    "#export the model\n",
    "pickle.dump(classifier, open('/home/re91921z@nimbus.local/Documentos/DataScience/docker-jenkins-ml/model1.pkl','wb'))"
   ]
  },
  {
   "cell_type": "code",
   "execution_count": 5,
   "metadata": {},
   "outputs": [],
   "source": [
    "#load the model and test with a custom input\n",
    "model = pickle.load( open('/home/re91921z@nimbus.local/Documentos/DataScience/docker-jenkins-ml/model1.pkl','rb'))"
   ]
  },
  {
   "cell_type": "code",
   "execution_count": 8,
   "metadata": {},
   "outputs": [
    {
     "name": "stdout",
     "output_type": "stream",
     "text": [
      "Hello Worlds\n",
      "versicolor\n"
     ]
    }
   ],
   "source": [
    "x = [[1.7, 1.2, 2.7, 2.1]]\n",
    "predict = model.predict(x)\n",
    "print(labels[predict[0]])"
   ]
  },
  {
   "cell_type": "code",
   "execution_count": null,
   "metadata": {},
   "outputs": [],
   "source": []
  }
 ],
 "metadata": {
  "kernelspec": {
   "display_name": "Python3",
   "language": "python",
   "name": "python3"
  },
  "language_info": {
   "codemirror_mode": {
    "name": "ipython",
    "version": 3
   },
   "file_extension": ".py",
   "mimetype": "text/x-python",
   "name": "python",
   "nbconvert_exporter": "python",
   "pygments_lexer": "ipython3",
   "version": "3.7.3"
  }
 },
 "nbformat": 4,
 "nbformat_minor": 2
}
